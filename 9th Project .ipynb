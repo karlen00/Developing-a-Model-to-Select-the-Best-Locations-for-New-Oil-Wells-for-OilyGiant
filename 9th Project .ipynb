{
 "cells": [
  {
   "cell_type": "markdown",
   "metadata": {},
   "source": [
    "# Menemukan Lokasi yang Cocok untuk Pengeboran Sumur Minyak Baru"
   ]
  },
  {
   "cell_type": "markdown",
   "metadata": {},
   "source": [
    "## Content <a id='contents'></a>"
   ]
  },
  {
   "cell_type": "markdown",
   "metadata": {},
   "source": [
    "# Content\n",
    "\n",
    "* [2 Overview](#pverview)\n",
    "    * [2.1 Introduction](#intro)\n",
    "    * [2.2 Data Descrition](#data_description)\n",
    "    * [2.3 Goals](#goals)\n",
    "\n",
    "* [3 Data_Preprocessing](#data_preprocessing)\n",
    "    * [3.1 Load Data](#load_data)\n",
    "    * [3.2 Initial_Data_Exploration](#initial_data_exploration)\n",
    "    * [3.3 Initial Summary](#initial_summary)\n",
    "    \n",
    "* [4 Train and Test Model for Each Region](#train_data_and_test_model)\n",
    "    * [4.1 Spliting Data into Training Set and Validation Set](#split_data)\n",
    "    * [4.2 Model Train and Generate Prediction for Validation Dataset](#train_model)\n",
    "    * [4.3 Save Prediction and Correct Validation Dataset](#save_valid_answer)\n",
    "    * [4.4 Average Product Volume and RMSE Model](#mean_product_volume)\n",
    "    * [4.5 Initial Analysis](#initial_analysis)\n",
    "\n",
    "* [5 Initial Profit Calculation](#initial_profit_calculation)\n",
    "    * [5.1 Main Variable](#key_variable)\n",
    "    * [5.2 Volume of Oil Reserves Sufficient to Develop a New wel](#minimum_oil_volume)\n",
    "    * [5.3 Subsection Conclusion](#subsection_conclusion)\n",
    "\n",
    "\n",
    "* [6 Profit Calculation](#profit_calculation)\n",
    "\n",
    "* [7 Risk and Return](#risk_and_return)\n",
    "\n",
    "* [8 Summary](#Summary)"
   ]
  },
  {
   "cell_type": "markdown",
   "metadata": {},
   "source": [
    "## Overview <a id='overview'></a>"
   ]
  },
  {
   "cell_type": "markdown",
   "metadata": {},
   "source": [
    "### Introduction <a id='intro'></a>"
   ]
  },
  {
   "cell_type": "markdown",
   "metadata": {},
   "source": [
    "Sebagai seorang data scientist di perusahaan `OilyGiant`, diminta untuk menemukan lokasi yang cocok untuk penggalian sumur minyak baru. Data yang tersedia adalah data sampel minyak dari tiga wilayah. Pada project ini akan membuat sebuah model yang akan membantu memilih wilayah dengan margin laba tertinggi. Analisis terhadap laba dan risiko potensial akan dilakukan menggunakan teknik `bootstrapping`"
   ]
  },
  {
   "cell_type": "markdown",
   "metadata": {},
   "source": [
    "### Data Description <a id='data_description'></a>"
   ]
  },
  {
   "cell_type": "markdown",
   "metadata": {},
   "source": [
    "`id` — ID unik sumur minyak\n",
    "\n",
    "`f0, f1, f2` — tiga fitur titik\n",
    "\n",
    "`product` — volume cadangan minyak di sumur"
   ]
  },
  {
   "cell_type": "markdown",
   "metadata": {},
   "source": [
    "### Goals <a id='goals'></a>"
   ]
  },
  {
   "cell_type": "markdown",
   "metadata": {},
   "source": [
    "Tujuan dari proyek ini adalah untuk menemukan lokasi yang cocok untuk pengeboran sumur minyak.\n",
    "\n",
    "Langkah-langkah yang harus diambil;\n",
    "\n",
    "1. Latih dan uji model untuk setiap area :\n",
    "- Pisahkan data menjadi training set dan validation set dengan perbandingan 75:25.\n",
    "- Latih model dan buat prediksi untuk set validasi.\n",
    "- Simpan prediksi dan jawaban yang benar untuk set validasi.\n",
    "- Menampilkan prediksi volume rata-rata cadangan minyak dan RMSE model.\n",
    "- Analisis hasilnya.\n",
    "2. Mempersiapkan perhitungan keuntungan:\n",
    "- Simpan semua nilai kunci untuk penghitungan keuntungan dalam variabel terpisah.\n",
    "- Hitung volume cadangan minyak yang cukup untuk mengembangkan sumur baru tanpa kerugian.\n",
    "- Bandingkan nilai yang diperoleh dengan rata-rata volume cadangan minyak di setiap wilayah.\n",
    "- Presentasikan temuan Anda mengenai persiapan penghitungan keuntungan.\n",
    "3. Buat fungsi untuk menghitung keuntungan dari serangkaian sumur minyak yang dipilih dan prediksi model:\n",
    "- Pilih sumur dengan nilai prediksi tertinggi.\n",
    "- Ringkaslah target volume cadangan minyak berdasarkan prediksi tersebut.\n",
    "- Memberi usulan area untuk pengembangan sumur minyak dan berikan justifikasi atau alasan pilihan lalu hitung keuntungan dari volume cadangan minyak yang diperoleh.\n",
    "4. Hitung risiko dan keuntungan untuk setiap area:\n",
    "- Gunakan teknik bootstrapping dengan 1.000 sampel untuk mengetahui distribusi keuntungan.\n",
    "- Temukan keuntungan rata-rata, interval kepercayaan 95%, dan risiko kerugian. Kerugian adalah keuntungan negatif, hitung kemungkinan kemungkinan kerugian dan nyatakan dalam persentase.\n"
   ]
  },
  {
   "cell_type": "markdown",
   "metadata": {},
   "source": [
    "## Data Preprocessing <a id='data_preprocessing'></a>"
   ]
  },
  {
   "cell_type": "code",
   "execution_count": 112,
   "metadata": {},
   "outputs": [],
   "source": [
    "# Muat semua library\n",
    "import pandas as pd\n",
    "import matplotlib.pyplot as plt\n",
    "import seaborn as sns\n",
    "import numpy as np\n",
    "\n",
    "from scipy import stats as st \n",
    "\n",
    "from sklearn.tree import DecisionTreeClassifier, DecisionTreeRegressor\n",
    "from sklearn.ensemble import RandomForestClassifier, RandomForestRegressor\n",
    "from sklearn.linear_model import LogisticRegression, LinearRegression, Ridge\n",
    "\n",
    "from sklearn.model_selection import train_test_split, GridSearchCV\n",
    "from sklearn.metrics import mean_squared_error, f1_score, roc_auc_score, make_scorer\n",
    "from sklearn.preprocessing import OrdinalEncoder, StandardScaler\n",
    "from sklearn.metrics import roc_auc_score\n",
    "\n",
    "from sklearn.utils import shuffle\n",
    "\n",
    "import warnings\n",
    "warnings.filterwarnings('ignore')"
   ]
  },
  {
   "cell_type": "code",
   "execution_count": 113,
   "metadata": {},
   "outputs": [],
   "source": [
    "# Muat file data menjadi DataFrame\n",
    "geo_data0 = pd.read_csv('/datasets/geo_data_0.csv')\n",
    "geo_data1 = pd.read_csv('/datasets/geo_data_1.csv')\n",
    "geo_data2 = pd.read_csv('/datasets/geo_data_2.csv')"
   ]
  },
  {
   "cell_type": "markdown",
   "metadata": {},
   "source": [
    "### Initial Data Exploration <a id='initial_data_exploration'></a>"
   ]
  },
  {
   "cell_type": "code",
   "execution_count": 114,
   "metadata": {},
   "outputs": [
    {
     "data": {
      "text/html": [
       "<div>\n",
       "<style scoped>\n",
       "    .dataframe tbody tr th:only-of-type {\n",
       "        vertical-align: middle;\n",
       "    }\n",
       "\n",
       "    .dataframe tbody tr th {\n",
       "        vertical-align: top;\n",
       "    }\n",
       "\n",
       "    .dataframe thead th {\n",
       "        text-align: right;\n",
       "    }\n",
       "</style>\n",
       "<table border=\"1\" class=\"dataframe\">\n",
       "  <thead>\n",
       "    <tr style=\"text-align: right;\">\n",
       "      <th></th>\n",
       "      <th>id</th>\n",
       "      <th>f0</th>\n",
       "      <th>f1</th>\n",
       "      <th>f2</th>\n",
       "      <th>product</th>\n",
       "    </tr>\n",
       "  </thead>\n",
       "  <tbody>\n",
       "    <tr>\n",
       "      <th>55112</th>\n",
       "      <td>tBFQa</td>\n",
       "      <td>2.014725</td>\n",
       "      <td>0.221052</td>\n",
       "      <td>3.789812</td>\n",
       "      <td>143.022204</td>\n",
       "    </tr>\n",
       "    <tr>\n",
       "      <th>53922</th>\n",
       "      <td>Dcqbg</td>\n",
       "      <td>0.620338</td>\n",
       "      <td>-0.564341</td>\n",
       "      <td>7.234352</td>\n",
       "      <td>73.526752</td>\n",
       "    </tr>\n",
       "    <tr>\n",
       "      <th>97176</th>\n",
       "      <td>13ijC</td>\n",
       "      <td>-0.772710</td>\n",
       "      <td>0.365721</td>\n",
       "      <td>-5.284948</td>\n",
       "      <td>22.556509</td>\n",
       "    </tr>\n",
       "    <tr>\n",
       "      <th>41266</th>\n",
       "      <td>hz8nW</td>\n",
       "      <td>1.681697</td>\n",
       "      <td>-0.102490</td>\n",
       "      <td>-1.586632</td>\n",
       "      <td>116.987499</td>\n",
       "    </tr>\n",
       "    <tr>\n",
       "      <th>96971</th>\n",
       "      <td>VpGzj</td>\n",
       "      <td>0.682694</td>\n",
       "      <td>0.670935</td>\n",
       "      <td>1.413691</td>\n",
       "      <td>127.758230</td>\n",
       "    </tr>\n",
       "  </tbody>\n",
       "</table>\n",
       "</div>"
      ],
      "text/plain": [
       "          id        f0        f1        f2     product\n",
       "55112  tBFQa  2.014725  0.221052  3.789812  143.022204\n",
       "53922  Dcqbg  0.620338 -0.564341  7.234352   73.526752\n",
       "97176  13ijC -0.772710  0.365721 -5.284948   22.556509\n",
       "41266  hz8nW  1.681697 -0.102490 -1.586632  116.987499\n",
       "96971  VpGzj  0.682694  0.670935  1.413691  127.758230"
      ]
     },
     "execution_count": 114,
     "metadata": {},
     "output_type": "execute_result"
    }
   ],
   "source": [
    "# Menampilkan sample data untuk melihat data secara sekilas\n",
    "geo_data0.sample(5)"
   ]
  },
  {
   "cell_type": "code",
   "execution_count": 115,
   "metadata": {
    "scrolled": true
   },
   "outputs": [
    {
     "name": "stdout",
     "output_type": "stream",
     "text": [
      "<class 'pandas.core.frame.DataFrame'>\n",
      "RangeIndex: 100000 entries, 0 to 99999\n",
      "Data columns (total 5 columns):\n",
      " #   Column   Non-Null Count   Dtype  \n",
      "---  ------   --------------   -----  \n",
      " 0   id       100000 non-null  object \n",
      " 1   f0       100000 non-null  float64\n",
      " 2   f1       100000 non-null  float64\n",
      " 3   f2       100000 non-null  float64\n",
      " 4   product  100000 non-null  float64\n",
      "dtypes: float64(4), object(1)\n",
      "memory usage: 3.8+ MB\n"
     ]
    }
   ],
   "source": [
    "# Menampilkan informasi/rangkuman umum tentang DataFrame\n",
    "geo_data0.info()"
   ]
  },
  {
   "cell_type": "code",
   "execution_count": 116,
   "metadata": {},
   "outputs": [
    {
     "data": {
      "text/html": [
       "<div>\n",
       "<style scoped>\n",
       "    .dataframe tbody tr th:only-of-type {\n",
       "        vertical-align: middle;\n",
       "    }\n",
       "\n",
       "    .dataframe tbody tr th {\n",
       "        vertical-align: top;\n",
       "    }\n",
       "\n",
       "    .dataframe thead th {\n",
       "        text-align: right;\n",
       "    }\n",
       "</style>\n",
       "<table border=\"1\" class=\"dataframe\">\n",
       "  <thead>\n",
       "    <tr style=\"text-align: right;\">\n",
       "      <th></th>\n",
       "      <th>f0</th>\n",
       "      <th>f1</th>\n",
       "      <th>f2</th>\n",
       "      <th>product</th>\n",
       "    </tr>\n",
       "  </thead>\n",
       "  <tbody>\n",
       "    <tr>\n",
       "      <th>count</th>\n",
       "      <td>100000.000000</td>\n",
       "      <td>100000.000000</td>\n",
       "      <td>100000.000000</td>\n",
       "      <td>100000.000000</td>\n",
       "    </tr>\n",
       "    <tr>\n",
       "      <th>mean</th>\n",
       "      <td>0.500419</td>\n",
       "      <td>0.250143</td>\n",
       "      <td>2.502647</td>\n",
       "      <td>92.500000</td>\n",
       "    </tr>\n",
       "    <tr>\n",
       "      <th>std</th>\n",
       "      <td>0.871832</td>\n",
       "      <td>0.504433</td>\n",
       "      <td>3.248248</td>\n",
       "      <td>44.288691</td>\n",
       "    </tr>\n",
       "    <tr>\n",
       "      <th>min</th>\n",
       "      <td>-1.408605</td>\n",
       "      <td>-0.848218</td>\n",
       "      <td>-12.088328</td>\n",
       "      <td>0.000000</td>\n",
       "    </tr>\n",
       "    <tr>\n",
       "      <th>25%</th>\n",
       "      <td>-0.072580</td>\n",
       "      <td>-0.200881</td>\n",
       "      <td>0.287748</td>\n",
       "      <td>56.497507</td>\n",
       "    </tr>\n",
       "    <tr>\n",
       "      <th>50%</th>\n",
       "      <td>0.502360</td>\n",
       "      <td>0.250252</td>\n",
       "      <td>2.515969</td>\n",
       "      <td>91.849972</td>\n",
       "    </tr>\n",
       "    <tr>\n",
       "      <th>75%</th>\n",
       "      <td>1.073581</td>\n",
       "      <td>0.700646</td>\n",
       "      <td>4.715088</td>\n",
       "      <td>128.564089</td>\n",
       "    </tr>\n",
       "    <tr>\n",
       "      <th>max</th>\n",
       "      <td>2.362331</td>\n",
       "      <td>1.343769</td>\n",
       "      <td>16.003790</td>\n",
       "      <td>185.364347</td>\n",
       "    </tr>\n",
       "  </tbody>\n",
       "</table>\n",
       "</div>"
      ],
      "text/plain": [
       "                  f0             f1             f2        product\n",
       "count  100000.000000  100000.000000  100000.000000  100000.000000\n",
       "mean        0.500419       0.250143       2.502647      92.500000\n",
       "std         0.871832       0.504433       3.248248      44.288691\n",
       "min        -1.408605      -0.848218     -12.088328       0.000000\n",
       "25%        -0.072580      -0.200881       0.287748      56.497507\n",
       "50%         0.502360       0.250252       2.515969      91.849972\n",
       "75%         1.073581       0.700646       4.715088     128.564089\n",
       "max         2.362331       1.343769      16.003790     185.364347"
      ]
     },
     "execution_count": 116,
     "metadata": {},
     "output_type": "execute_result"
    }
   ],
   "source": [
    "# Memampilkan nilai statistik dari kolom numerik\n",
    "geo_data0.describe()"
   ]
  },
  {
   "cell_type": "code",
   "execution_count": 117,
   "metadata": {},
   "outputs": [
    {
     "data": {
      "text/html": [
       "<div>\n",
       "<style scoped>\n",
       "    .dataframe tbody tr th:only-of-type {\n",
       "        vertical-align: middle;\n",
       "    }\n",
       "\n",
       "    .dataframe tbody tr th {\n",
       "        vertical-align: top;\n",
       "    }\n",
       "\n",
       "    .dataframe thead th {\n",
       "        text-align: right;\n",
       "    }\n",
       "</style>\n",
       "<table border=\"1\" class=\"dataframe\">\n",
       "  <thead>\n",
       "    <tr style=\"text-align: right;\">\n",
       "      <th></th>\n",
       "      <th>id</th>\n",
       "      <th>f0</th>\n",
       "      <th>f1</th>\n",
       "      <th>f2</th>\n",
       "      <th>product</th>\n",
       "    </tr>\n",
       "  </thead>\n",
       "  <tbody>\n",
       "    <tr>\n",
       "      <th>23709</th>\n",
       "      <td>ANKdO</td>\n",
       "      <td>-2.640818</td>\n",
       "      <td>-11.215067</td>\n",
       "      <td>3.004322</td>\n",
       "      <td>84.038886</td>\n",
       "    </tr>\n",
       "    <tr>\n",
       "      <th>51874</th>\n",
       "      <td>Ct1AB</td>\n",
       "      <td>7.500104</td>\n",
       "      <td>-4.481511</td>\n",
       "      <td>4.009053</td>\n",
       "      <td>107.813044</td>\n",
       "    </tr>\n",
       "    <tr>\n",
       "      <th>80987</th>\n",
       "      <td>n15A1</td>\n",
       "      <td>2.783969</td>\n",
       "      <td>0.551256</td>\n",
       "      <td>-0.003467</td>\n",
       "      <td>0.000000</td>\n",
       "    </tr>\n",
       "    <tr>\n",
       "      <th>4694</th>\n",
       "      <td>zH1yi</td>\n",
       "      <td>-2.463210</td>\n",
       "      <td>-5.194706</td>\n",
       "      <td>5.002314</td>\n",
       "      <td>137.945408</td>\n",
       "    </tr>\n",
       "    <tr>\n",
       "      <th>58608</th>\n",
       "      <td>QsHjk</td>\n",
       "      <td>-15.553805</td>\n",
       "      <td>-6.134755</td>\n",
       "      <td>3.996667</td>\n",
       "      <td>110.992147</td>\n",
       "    </tr>\n",
       "  </tbody>\n",
       "</table>\n",
       "</div>"
      ],
      "text/plain": [
       "          id         f0         f1        f2     product\n",
       "23709  ANKdO  -2.640818 -11.215067  3.004322   84.038886\n",
       "51874  Ct1AB   7.500104  -4.481511  4.009053  107.813044\n",
       "80987  n15A1   2.783969   0.551256 -0.003467    0.000000\n",
       "4694   zH1yi  -2.463210  -5.194706  5.002314  137.945408\n",
       "58608  QsHjk -15.553805  -6.134755  3.996667  110.992147"
      ]
     },
     "execution_count": 117,
     "metadata": {},
     "output_type": "execute_result"
    }
   ],
   "source": [
    "# Menampilkan sample data untuk melihat data secara sekilas\n",
    "geo_data1.sample(5)"
   ]
  },
  {
   "cell_type": "code",
   "execution_count": 118,
   "metadata": {},
   "outputs": [
    {
     "name": "stdout",
     "output_type": "stream",
     "text": [
      "<class 'pandas.core.frame.DataFrame'>\n",
      "RangeIndex: 100000 entries, 0 to 99999\n",
      "Data columns (total 5 columns):\n",
      " #   Column   Non-Null Count   Dtype  \n",
      "---  ------   --------------   -----  \n",
      " 0   id       100000 non-null  object \n",
      " 1   f0       100000 non-null  float64\n",
      " 2   f1       100000 non-null  float64\n",
      " 3   f2       100000 non-null  float64\n",
      " 4   product  100000 non-null  float64\n",
      "dtypes: float64(4), object(1)\n",
      "memory usage: 3.8+ MB\n"
     ]
    }
   ],
   "source": [
    "# Menampilkan informasi/rangkuman umum tentang DataFrame\n",
    "geo_data1.info()"
   ]
  },
  {
   "cell_type": "code",
   "execution_count": 119,
   "metadata": {},
   "outputs": [
    {
     "data": {
      "text/html": [
       "<div>\n",
       "<style scoped>\n",
       "    .dataframe tbody tr th:only-of-type {\n",
       "        vertical-align: middle;\n",
       "    }\n",
       "\n",
       "    .dataframe tbody tr th {\n",
       "        vertical-align: top;\n",
       "    }\n",
       "\n",
       "    .dataframe thead th {\n",
       "        text-align: right;\n",
       "    }\n",
       "</style>\n",
       "<table border=\"1\" class=\"dataframe\">\n",
       "  <thead>\n",
       "    <tr style=\"text-align: right;\">\n",
       "      <th></th>\n",
       "      <th>f0</th>\n",
       "      <th>f1</th>\n",
       "      <th>f2</th>\n",
       "      <th>product</th>\n",
       "    </tr>\n",
       "  </thead>\n",
       "  <tbody>\n",
       "    <tr>\n",
       "      <th>count</th>\n",
       "      <td>100000.000000</td>\n",
       "      <td>100000.000000</td>\n",
       "      <td>100000.000000</td>\n",
       "      <td>100000.000000</td>\n",
       "    </tr>\n",
       "    <tr>\n",
       "      <th>mean</th>\n",
       "      <td>1.141296</td>\n",
       "      <td>-4.796579</td>\n",
       "      <td>2.494541</td>\n",
       "      <td>68.825000</td>\n",
       "    </tr>\n",
       "    <tr>\n",
       "      <th>std</th>\n",
       "      <td>8.965932</td>\n",
       "      <td>5.119872</td>\n",
       "      <td>1.703572</td>\n",
       "      <td>45.944423</td>\n",
       "    </tr>\n",
       "    <tr>\n",
       "      <th>min</th>\n",
       "      <td>-31.609576</td>\n",
       "      <td>-26.358598</td>\n",
       "      <td>-0.018144</td>\n",
       "      <td>0.000000</td>\n",
       "    </tr>\n",
       "    <tr>\n",
       "      <th>25%</th>\n",
       "      <td>-6.298551</td>\n",
       "      <td>-8.267985</td>\n",
       "      <td>1.000021</td>\n",
       "      <td>26.953261</td>\n",
       "    </tr>\n",
       "    <tr>\n",
       "      <th>50%</th>\n",
       "      <td>1.153055</td>\n",
       "      <td>-4.813172</td>\n",
       "      <td>2.011479</td>\n",
       "      <td>57.085625</td>\n",
       "    </tr>\n",
       "    <tr>\n",
       "      <th>75%</th>\n",
       "      <td>8.621015</td>\n",
       "      <td>-1.332816</td>\n",
       "      <td>3.999904</td>\n",
       "      <td>107.813044</td>\n",
       "    </tr>\n",
       "    <tr>\n",
       "      <th>max</th>\n",
       "      <td>29.421755</td>\n",
       "      <td>18.734063</td>\n",
       "      <td>5.019721</td>\n",
       "      <td>137.945408</td>\n",
       "    </tr>\n",
       "  </tbody>\n",
       "</table>\n",
       "</div>"
      ],
      "text/plain": [
       "                  f0             f1             f2        product\n",
       "count  100000.000000  100000.000000  100000.000000  100000.000000\n",
       "mean        1.141296      -4.796579       2.494541      68.825000\n",
       "std         8.965932       5.119872       1.703572      45.944423\n",
       "min       -31.609576     -26.358598      -0.018144       0.000000\n",
       "25%        -6.298551      -8.267985       1.000021      26.953261\n",
       "50%         1.153055      -4.813172       2.011479      57.085625\n",
       "75%         8.621015      -1.332816       3.999904     107.813044\n",
       "max        29.421755      18.734063       5.019721     137.945408"
      ]
     },
     "execution_count": 119,
     "metadata": {},
     "output_type": "execute_result"
    }
   ],
   "source": [
    "# Memampilkan nilai statistik dari kolom numerik\n",
    "geo_data1.describe()"
   ]
  },
  {
   "cell_type": "code",
   "execution_count": 120,
   "metadata": {},
   "outputs": [
    {
     "data": {
      "text/html": [
       "<div>\n",
       "<style scoped>\n",
       "    .dataframe tbody tr th:only-of-type {\n",
       "        vertical-align: middle;\n",
       "    }\n",
       "\n",
       "    .dataframe tbody tr th {\n",
       "        vertical-align: top;\n",
       "    }\n",
       "\n",
       "    .dataframe thead th {\n",
       "        text-align: right;\n",
       "    }\n",
       "</style>\n",
       "<table border=\"1\" class=\"dataframe\">\n",
       "  <thead>\n",
       "    <tr style=\"text-align: right;\">\n",
       "      <th></th>\n",
       "      <th>id</th>\n",
       "      <th>f0</th>\n",
       "      <th>f1</th>\n",
       "      <th>f2</th>\n",
       "      <th>product</th>\n",
       "    </tr>\n",
       "  </thead>\n",
       "  <tbody>\n",
       "    <tr>\n",
       "      <th>89109</th>\n",
       "      <td>ZgBgt</td>\n",
       "      <td>-1.547086</td>\n",
       "      <td>-1.101981</td>\n",
       "      <td>-3.677697</td>\n",
       "      <td>18.323167</td>\n",
       "    </tr>\n",
       "    <tr>\n",
       "      <th>22039</th>\n",
       "      <td>ugJHH</td>\n",
       "      <td>-2.385558</td>\n",
       "      <td>-0.637016</td>\n",
       "      <td>2.322332</td>\n",
       "      <td>146.088920</td>\n",
       "    </tr>\n",
       "    <tr>\n",
       "      <th>62829</th>\n",
       "      <td>hVsf9</td>\n",
       "      <td>0.850860</td>\n",
       "      <td>3.504191</td>\n",
       "      <td>3.831136</td>\n",
       "      <td>175.211766</td>\n",
       "    </tr>\n",
       "    <tr>\n",
       "      <th>40279</th>\n",
       "      <td>BV5I2</td>\n",
       "      <td>-0.270028</td>\n",
       "      <td>-4.875826</td>\n",
       "      <td>2.330012</td>\n",
       "      <td>110.291518</td>\n",
       "    </tr>\n",
       "    <tr>\n",
       "      <th>73205</th>\n",
       "      <td>MRkIi</td>\n",
       "      <td>1.450782</td>\n",
       "      <td>0.237289</td>\n",
       "      <td>6.479410</td>\n",
       "      <td>75.210609</td>\n",
       "    </tr>\n",
       "  </tbody>\n",
       "</table>\n",
       "</div>"
      ],
      "text/plain": [
       "          id        f0        f1        f2     product\n",
       "89109  ZgBgt -1.547086 -1.101981 -3.677697   18.323167\n",
       "22039  ugJHH -2.385558 -0.637016  2.322332  146.088920\n",
       "62829  hVsf9  0.850860  3.504191  3.831136  175.211766\n",
       "40279  BV5I2 -0.270028 -4.875826  2.330012  110.291518\n",
       "73205  MRkIi  1.450782  0.237289  6.479410   75.210609"
      ]
     },
     "execution_count": 120,
     "metadata": {},
     "output_type": "execute_result"
    }
   ],
   "source": [
    "# Menampilkan sample data untuk melihat data secara sekilas\n",
    "geo_data2.sample(5)"
   ]
  },
  {
   "cell_type": "code",
   "execution_count": 121,
   "metadata": {},
   "outputs": [
    {
     "name": "stdout",
     "output_type": "stream",
     "text": [
      "<class 'pandas.core.frame.DataFrame'>\n",
      "RangeIndex: 100000 entries, 0 to 99999\n",
      "Data columns (total 5 columns):\n",
      " #   Column   Non-Null Count   Dtype  \n",
      "---  ------   --------------   -----  \n",
      " 0   id       100000 non-null  object \n",
      " 1   f0       100000 non-null  float64\n",
      " 2   f1       100000 non-null  float64\n",
      " 3   f2       100000 non-null  float64\n",
      " 4   product  100000 non-null  float64\n",
      "dtypes: float64(4), object(1)\n",
      "memory usage: 3.8+ MB\n"
     ]
    }
   ],
   "source": [
    "# Menampilkan informasi/rangkuman umum tentang DataFrame\n",
    "geo_data2.info()"
   ]
  },
  {
   "cell_type": "code",
   "execution_count": 122,
   "metadata": {},
   "outputs": [
    {
     "data": {
      "text/html": [
       "<div>\n",
       "<style scoped>\n",
       "    .dataframe tbody tr th:only-of-type {\n",
       "        vertical-align: middle;\n",
       "    }\n",
       "\n",
       "    .dataframe tbody tr th {\n",
       "        vertical-align: top;\n",
       "    }\n",
       "\n",
       "    .dataframe thead th {\n",
       "        text-align: right;\n",
       "    }\n",
       "</style>\n",
       "<table border=\"1\" class=\"dataframe\">\n",
       "  <thead>\n",
       "    <tr style=\"text-align: right;\">\n",
       "      <th></th>\n",
       "      <th>f0</th>\n",
       "      <th>f1</th>\n",
       "      <th>f2</th>\n",
       "      <th>product</th>\n",
       "    </tr>\n",
       "  </thead>\n",
       "  <tbody>\n",
       "    <tr>\n",
       "      <th>count</th>\n",
       "      <td>100000.000000</td>\n",
       "      <td>100000.000000</td>\n",
       "      <td>100000.000000</td>\n",
       "      <td>100000.000000</td>\n",
       "    </tr>\n",
       "    <tr>\n",
       "      <th>mean</th>\n",
       "      <td>0.002023</td>\n",
       "      <td>-0.002081</td>\n",
       "      <td>2.495128</td>\n",
       "      <td>95.000000</td>\n",
       "    </tr>\n",
       "    <tr>\n",
       "      <th>std</th>\n",
       "      <td>1.732045</td>\n",
       "      <td>1.730417</td>\n",
       "      <td>3.473445</td>\n",
       "      <td>44.749921</td>\n",
       "    </tr>\n",
       "    <tr>\n",
       "      <th>min</th>\n",
       "      <td>-8.760004</td>\n",
       "      <td>-7.084020</td>\n",
       "      <td>-11.970335</td>\n",
       "      <td>0.000000</td>\n",
       "    </tr>\n",
       "    <tr>\n",
       "      <th>25%</th>\n",
       "      <td>-1.162288</td>\n",
       "      <td>-1.174820</td>\n",
       "      <td>0.130359</td>\n",
       "      <td>59.450441</td>\n",
       "    </tr>\n",
       "    <tr>\n",
       "      <th>50%</th>\n",
       "      <td>0.009424</td>\n",
       "      <td>-0.009482</td>\n",
       "      <td>2.484236</td>\n",
       "      <td>94.925613</td>\n",
       "    </tr>\n",
       "    <tr>\n",
       "      <th>75%</th>\n",
       "      <td>1.158535</td>\n",
       "      <td>1.163678</td>\n",
       "      <td>4.858794</td>\n",
       "      <td>130.595027</td>\n",
       "    </tr>\n",
       "    <tr>\n",
       "      <th>max</th>\n",
       "      <td>7.238262</td>\n",
       "      <td>7.844801</td>\n",
       "      <td>16.739402</td>\n",
       "      <td>190.029838</td>\n",
       "    </tr>\n",
       "  </tbody>\n",
       "</table>\n",
       "</div>"
      ],
      "text/plain": [
       "                  f0             f1             f2        product\n",
       "count  100000.000000  100000.000000  100000.000000  100000.000000\n",
       "mean        0.002023      -0.002081       2.495128      95.000000\n",
       "std         1.732045       1.730417       3.473445      44.749921\n",
       "min        -8.760004      -7.084020     -11.970335       0.000000\n",
       "25%        -1.162288      -1.174820       0.130359      59.450441\n",
       "50%         0.009424      -0.009482       2.484236      94.925613\n",
       "75%         1.158535       1.163678       4.858794     130.595027\n",
       "max         7.238262       7.844801      16.739402     190.029838"
      ]
     },
     "execution_count": 122,
     "metadata": {},
     "output_type": "execute_result"
    }
   ],
   "source": [
    "# Memampilkan nilai statistik dari kolom numerik\n",
    "geo_data2.describe()"
   ]
  },
  {
   "cell_type": "markdown",
   "metadata": {},
   "source": [
    "### Initial Summary <a id='initial_summary'></a>"
   ]
  },
  {
   "cell_type": "markdown",
   "metadata": {},
   "source": [
    "Insights:\n",
    "\n",
    "1. Data yang digunakan sudah lengkap tidak tedapat data null dan keseluruhan tipe datanya sudah benar\n",
    "2. Rata-rata titik pada `geo_data0` dan `geo_data1` memiliki volume cadangan minyak yang lebih tinggi dari pada `geo_data2`"
   ]
  },
  {
   "cell_type": "markdown",
   "metadata": {},
   "source": [
    "## Train and Test Model Each Region <a id='train_data_and_test_model'></a>"
   ]
  },
  {
   "cell_type": "markdown",
   "metadata": {},
   "source": [
    "### Spliting Data into Training Set and Validation Set <a id='split_data'></a>"
   ]
  },
  {
   "cell_type": "code",
   "execution_count": 123,
   "metadata": {},
   "outputs": [],
   "source": [
    "# Fungsi untuk split data menjadi training dan validation set\n",
    "def split_data (data):\n",
    "    features = data.drop(['product','id'], axis=1)\n",
    "    target = data['product']\n",
    "    \n",
    "    features_train, features_valid, target_train, target_valid = train_test_split(features, target, \n",
    "                                                                                  random_state=12345, \n",
    "                                                                                  test_size=0.25)\n",
    "    return features_train, features_valid, target_train, target_valid"
   ]
  },
  {
   "cell_type": "code",
   "execution_count": 124,
   "metadata": {},
   "outputs": [],
   "source": [
    "# Recall fungsi split_data\n",
    "features_train_0, features_valid_0, target_train_0, target_valid_0 = split_data(geo_data0)\n",
    "features_train_1, features_valid_1, target_train_1, target_valid_1 = split_data(geo_data1)\n",
    "features_train_2, features_valid_2, target_train_2, target_valid_2 = split_data(geo_data2)"
   ]
  },
  {
   "cell_type": "code",
   "execution_count": 125,
   "metadata": {},
   "outputs": [
    {
     "name": "stdout",
     "output_type": "stream",
     "text": [
      "(75000, 3)\n",
      "(25000, 3)\n",
      "(75000,)\n",
      "(25000,)\n"
     ]
    }
   ],
   "source": [
    "# Checking split_data step\n",
    "print(features_train_0.shape)\n",
    "print(features_valid_0.shape)\n",
    "print(target_train_0.shape)\n",
    "print(target_valid_0.shape)"
   ]
  },
  {
   "cell_type": "code",
   "execution_count": 126,
   "metadata": {},
   "outputs": [
    {
     "name": "stdout",
     "output_type": "stream",
     "text": [
      "(75000, 3)\n",
      "(25000, 3)\n",
      "(75000,)\n",
      "(25000,)\n"
     ]
    }
   ],
   "source": [
    "# Checking split_data step\n",
    "print(features_train_1.shape)\n",
    "print(features_valid_1.shape)\n",
    "print(target_train_1.shape)\n",
    "print(target_valid_1.shape)"
   ]
  },
  {
   "cell_type": "code",
   "execution_count": 127,
   "metadata": {},
   "outputs": [
    {
     "name": "stdout",
     "output_type": "stream",
     "text": [
      "(75000, 3)\n",
      "(25000, 3)\n",
      "(75000,)\n",
      "(25000,)\n"
     ]
    }
   ],
   "source": [
    "# Checking split_data step\n",
    "print(features_train_2.shape)\n",
    "print(features_valid_2.shape)\n",
    "print(target_train_2.shape)\n",
    "print(target_valid_2.shape)"
   ]
  },
  {
   "cell_type": "code",
   "execution_count": 128,
   "metadata": {},
   "outputs": [],
   "source": [
    "geo_data_all = [\n",
    "    geo_data0.drop('id', axis = 1),\n",
    "    geo_data1.drop('id', axis = 1),\n",
    "    geo_data2.drop('id', axis = 1),]"
   ]
  },
  {
   "cell_type": "code",
   "execution_count": 129,
   "metadata": {},
   "outputs": [
    {
     "name": "stdout",
     "output_type": "stream",
     "text": [
      "—Region 0 —\n",
      "mean product amount = 92.50000000000001\n",
      "Model RMSE: 37.5794217150813\n",
      "\n",
      "—Region 1 —\n",
      "mean product amount = 68.82500000000002\n",
      "Model RMSE: 0.889736773768065\n",
      "\n",
      "—Region 2 —\n",
      "mean product amount = 95.00000000000004\n",
      "Model RMSE: 39.958042459521614\n",
      "\n"
     ]
    }
   ],
   "source": [
    "state = np.random.RandomState(12345)\n",
    "\n",
    "samples_target = []\n",
    "samples_predictions = []\n",
    "\n",
    "for region in range(len(geo_data_all)):\n",
    "    data  = geo_data_all[region]\n",
    "\n",
    "    features = data.drop('product', axis = 1)\n",
    "    target = data['product']\n",
    "\n",
    "    features_train, features_valid, target_train, target_valid = train_test_split( \n",
    "        features, target, test_size = 0.25, random_state = state)\n",
    "    \n",
    "    model = LinearRegression()\n",
    "    model.fit(features_train, target_train)\n",
    "    predictions = model.predict(features_valid)\n",
    "\n",
    "    samples_target.append(target_valid.reset_index(drop = True))\n",
    "    samples_predictions.append(pd.Series(predictions))\n",
    "\n",
    "    mean_product = target.mean()\n",
    "    model_rmse = mean_squared_error(target_valid, predictions)**0.5\n",
    "\n",
    "    print(\"—Region\", region, \"—\")\n",
    "    print(\"mean product amount =\", mean_product)\n",
    "    print(\"Model RMSE:\", model_rmse)\n",
    "    print()"
   ]
  },
  {
   "cell_type": "markdown",
   "metadata": {},
   "source": [
    "<div class=\"alert alert-success\">\n",
    "<b>Code Reviewers's comment v.1</b> <a class=\"tocSkip\"></a>\n",
    "\n",
    "Bagus, code yang dijalankan sudah sesuai dengan instruksi dari project.\n",
    "\n",
    "</div>"
   ]
  },
  {
   "cell_type": "markdown",
   "metadata": {},
   "source": [
    "### Model Train and Generate Prediction for Validation Datasets <a id='train_model'></a>"
   ]
  },
  {
   "cell_type": "code",
   "execution_count": 130,
   "metadata": {},
   "outputs": [],
   "source": [
    "# Membuat fungsi untuk menyetel hyperparameter pada Regresi Linier\n",
    "def fit(features_train, target_train, features_valid, target_valid):\n",
    "    param_grid = {'fit_intercept': [True, False],\n",
    "                  'copy_X' : [True, False],\n",
    "                  'n_jobs': [1, 2, -1],\n",
    "                  'positive': [True, False],\n",
    "    }\n",
    "\n",
    "    lr = LinearRegression(np.random.RandomState(12345))\n",
    "    rmse_scorer = make_scorer(lambda target_valid, target_pred: \n",
    "                              np.sqrt(mean_squared_error(target_valid, target_pred)), \n",
    "                              greater_is_better=False)\n",
    "    \n",
    "    grid = GridSearchCV(estimator = lr, \n",
    "                        param_grid = param_grid, \n",
    "                        cv = 5, \n",
    "                        scoring = rmse_scorer)\n",
    "    \n",
    "    grid.fit(features_train, target_train)\n",
    "\n",
    "    best_params = grid.best_params_\n",
    "    best_rmse = -grid.best_score_\n",
    "    target_pred = grid.predict(features_valid)\n",
    "    mean_product = target_pred.mean()\n",
    "    model_rmse = mean_squared_error(target_valid, target_pred)**0.5\n",
    "    \n",
    "    return best_params, best_rmse, target_pred, mean_product, model_rmse"
   ]
  },
  {
   "cell_type": "code",
   "execution_count": 131,
   "metadata": {},
   "outputs": [],
   "source": [
    "# Membuat fungsi untuk hyperparameter pada LinearRegression\n",
    "def fit2(features_train, target_train, features_valid, target_valid):\n",
    "    param_grid = {\n",
    "                  'solver': ['svd', 'cholesky', 'lsqr', 'sparse_cg', 'sag', 'saga', 'lbfgs'],\n",
    "                  'alpha': [0.01, 0.1, 1, 10, 100],\n",
    "    }\n",
    "\n",
    "    r = Ridge(np.random.RandomState(12345))\n",
    "    rmse_scorer = make_scorer(lambda target_valid, target_pred: \n",
    "                              np.sqrt(mean_squared_error(target_valid, target_pred)), \n",
    "                              greater_is_better=False)\n",
    "    \n",
    "    grid = GridSearchCV(estimator = r, \n",
    "                        param_grid = param_grid, \n",
    "                        cv = 5, \n",
    "                        scoring = rmse_scorer)\n",
    "    \n",
    "    grid.fit(features_train, target_train)\n",
    "\n",
    "    best_params = grid.best_params_\n",
    "    best_rmse = -grid.best_score_\n",
    "    target_pred = grid.predict(features_valid)\n",
    "    mean_product = target_pred.mean()\n",
    "    model_rmse = mean_squared_error(target_valid, target_pred)**0.5\n",
    "    \n",
    "    return best_params, best_rmse, target_pred, mean_product, model_rmse"
   ]
  },
  {
   "cell_type": "code",
   "execution_count": 132,
   "metadata": {},
   "outputs": [],
   "source": [
    "# Memanggil Fit Function ke Train Model pada geo_data0\n",
    "best_params_0, best_rmse_0, target_pred_0, mean_product_0, model_rmse_0 = fit2(features_train_0, \n",
    "                                                                              target_train_0, \n",
    "                                                                              features_valid_0, \n",
    "                                                                              target_valid_0)"
   ]
  },
  {
   "cell_type": "code",
   "execution_count": 133,
   "metadata": {},
   "outputs": [
    {
     "data": {
      "text/plain": [
       "{'alpha': 0.01, 'solver': 'sag'}"
      ]
     },
     "execution_count": 133,
     "metadata": {},
     "output_type": "execute_result"
    }
   ],
   "source": [
    "# Print Best Params pada geo_data0\n",
    "best_params_0"
   ]
  },
  {
   "cell_type": "code",
   "execution_count": 134,
   "metadata": {},
   "outputs": [
    {
     "data": {
      "text/plain": [
       "37.732360614259214"
      ]
     },
     "execution_count": 134,
     "metadata": {},
     "output_type": "execute_result"
    }
   ],
   "source": [
    "# Print Best RMSE pada geo_data0\n",
    "best_rmse_0"
   ]
  },
  {
   "cell_type": "code",
   "execution_count": 135,
   "metadata": {},
   "outputs": [],
   "source": [
    "# Memanggil Fit Function ke Train Model pada geo_data1\n",
    "best_params_1, best_rmse_1, target_pred_1, mean_product_1, model_rmse_1 = fit2(features_train_1, \n",
    "                                                                              target_train_1, \n",
    "                                                                              features_valid_1, \n",
    "                                                                              target_valid_1)"
   ]
  },
  {
   "cell_type": "code",
   "execution_count": 136,
   "metadata": {},
   "outputs": [
    {
     "data": {
      "text/plain": [
       "{'alpha': 0.1, 'solver': 'lsqr'}"
      ]
     },
     "execution_count": 136,
     "metadata": {},
     "output_type": "execute_result"
    }
   ],
   "source": [
    "# Print Best Params pada df1\n",
    "best_params_1"
   ]
  },
  {
   "cell_type": "code",
   "execution_count": 137,
   "metadata": {},
   "outputs": [
    {
     "data": {
      "text/plain": [
       "0.8895409504762819"
      ]
     },
     "execution_count": 137,
     "metadata": {},
     "output_type": "execute_result"
    }
   ],
   "source": [
    "# Print Best RMSE pada geo_data1\n",
    "best_rmse_1"
   ]
  },
  {
   "cell_type": "code",
   "execution_count": 138,
   "metadata": {},
   "outputs": [],
   "source": [
    "# Memanggil Fit Function ke Train Model pada geo_data2\n",
    "best_params_2, best_rmse_2, target_pred_2, mean_product_2, model_rmse_2 = fit2(features_train_2, \n",
    "                                                                              target_train_2, \n",
    "                                                                              features_valid_2, \n",
    "                                                                              target_valid_2)"
   ]
  },
  {
   "cell_type": "code",
   "execution_count": 139,
   "metadata": {},
   "outputs": [
    {
     "data": {
      "text/plain": [
       "{'alpha': 1, 'solver': 'sag'}"
      ]
     },
     "execution_count": 139,
     "metadata": {},
     "output_type": "execute_result"
    }
   ],
   "source": [
    "# Print Best Params untuk geo_data2\n",
    "best_params_2"
   ]
  },
  {
   "cell_type": "code",
   "execution_count": 140,
   "metadata": {},
   "outputs": [
    {
     "data": {
      "text/plain": [
       "40.06572229753867"
      ]
     },
     "execution_count": 140,
     "metadata": {},
     "output_type": "execute_result"
    }
   ],
   "source": [
    "# Print Best RMSE untuk geo_data2\n",
    "best_rmse_2"
   ]
  },
  {
   "cell_type": "code",
   "execution_count": 141,
   "metadata": {},
   "outputs": [],
   "source": [
    "geo_data_all = [\n",
    "    geo_data0.drop('id', axis = 1),\n",
    "    geo_data1.drop('id', axis = 1),\n",
    "    geo_data2.drop('id', axis = 1),\n",
    "]"
   ]
  },
  {
   "cell_type": "code",
   "execution_count": 142,
   "metadata": {},
   "outputs": [
    {
     "name": "stdout",
     "output_type": "stream",
     "text": [
      "—Region 0 —\n",
      "mean product amount = 92.50000000000001\n",
      "Model RMSE: 37.5794217150813\n",
      "\n",
      "—Region 1 —\n",
      "mean product amount = 68.82500000000002\n",
      "Model RMSE: 0.889736773768065\n",
      "\n",
      "—Region 2 —\n",
      "mean product amount = 95.00000000000004\n",
      "Model RMSE: 39.958042459521614\n",
      "\n"
     ]
    }
   ],
   "source": [
    "state = np.random.RandomState(12345)\n",
    "\n",
    "samples_target = []\n",
    "samples_predictions = []\n",
    "\n",
    "for region in range(len(geo_data_all)):\n",
    "    data  = geo_data_all[region]\n",
    "\n",
    "    features = data.drop('product', axis = 1)\n",
    "    target = data['product']\n",
    "\n",
    "    features_train, features_valid, target_train, target_valid = train_test_split( \n",
    "        features, target, test_size = 0.25, random_state = state)\n",
    "    \n",
    "    model = LinearRegression(copy_X = True, \n",
    "                             fit_intercept = True, \n",
    "                             n_jobs = 1, \n",
    "                             positive = False)\n",
    "    model.fit(features_train, target_train)\n",
    "    predictions = model.predict(features_valid)\n",
    "\n",
    "    samples_target.append(target_valid.reset_index(drop = True))\n",
    "    samples_predictions.append(pd.Series(predictions))\n",
    "\n",
    "    mean_product = target.mean()\n",
    "    model_rmse = mean_squared_error(target_valid, predictions)**0.5\n",
    "\n",
    "    print(\"—Region\", region, \"—\")\n",
    "    print(\"mean product amount =\", mean_product)\n",
    "    print(\"Model RMSE:\", model_rmse)\n",
    "    print()"
   ]
  },
  {
   "cell_type": "code",
   "execution_count": 143,
   "metadata": {},
   "outputs": [
    {
     "name": "stdout",
     "output_type": "stream",
     "text": [
      "—Region 0 —\n",
      "mean product amount = 92.50000000000001\n",
      "Model RMSE: 37.57943025886763\n",
      "\n",
      "—Region 1 —\n",
      "mean product amount = 68.82500000000002\n",
      "Model RMSE: 0.8917228822685093\n",
      "\n",
      "—Region 2 —\n",
      "mean product amount = 95.00000000000004\n",
      "Model RMSE: 39.95802510571808\n",
      "\n"
     ]
    }
   ],
   "source": [
    "state = np.random.RandomState(12345)\n",
    "\n",
    "samples_target_2 = []\n",
    "samples_predictions_2 = []\n",
    "\n",
    "for region in range(len(geo_data_all)):\n",
    "    data  = geo_data_all[region]\n",
    "\n",
    "    features = data.drop('product', axis = 1)\n",
    "    target = data['product']\n",
    "\n",
    "    features_train, features_valid, target_train, target_valid = train_test_split( \n",
    "        features, target, test_size = 0.25, random_state = state)\n",
    "    \n",
    "    model = Ridge(alpha = 1, solver = 'sag')\n",
    "    model.fit(features_train, target_train)\n",
    "    predictions = model.predict(features_valid)\n",
    "\n",
    "    samples_target.append(target_valid.reset_index(drop = True))\n",
    "    samples_predictions.append(pd.Series(predictions))\n",
    "\n",
    "    mean_product = target.mean()\n",
    "    model_rmse = mean_squared_error(target_valid, predictions)**0.5\n",
    "\n",
    "    print(\"—Region\", region, \"—\")\n",
    "    print(\"mean product amount =\", mean_product)\n",
    "    print(\"Model RMSE:\", model_rmse)\n",
    "    print()"
   ]
  },
  {
   "cell_type": "code",
   "execution_count": 144,
   "metadata": {},
   "outputs": [
    {
     "name": "stdout",
     "output_type": "stream",
     "text": [
      "—Region 0 —\n",
      "mean product amount = 92.50000000000001\n",
      "Model RMSE: 38.79194400862664\n",
      "\n",
      "—Region 1 —\n",
      "mean product amount = 68.82500000000002\n",
      "Model RMSE: 0.7465390957112833\n",
      "\n",
      "—Region 2 —\n",
      "mean product amount = 95.00000000000004\n",
      "Model RMSE: 39.285687565849244\n",
      "\n"
     ]
    }
   ],
   "source": [
    "state = np.random.RandomState(12345)\n",
    "\n",
    "samples_target_3 = []\n",
    "samples_predictions_3 = []\n",
    "\n",
    "for region in range(len(geo_data_all)):\n",
    "    data  = geo_data_all[region]\n",
    "\n",
    "    features = data.drop('product', axis = 1)\n",
    "    target = data['product']\n",
    "\n",
    "    features_train, features_valid, target_train, target_valid = train_test_split( \n",
    "        features, target, test_size = 0.25, random_state = state)\n",
    "    \n",
    "    model = RandomForestRegressor()\n",
    "    model.fit(features_train, target_train)\n",
    "    predictions = model.predict(features_valid)\n",
    "\n",
    "    samples_target.append(target_valid.reset_index(drop = True))\n",
    "    samples_predictions.append(pd.Series(predictions))\n",
    "\n",
    "    mean_product = target.mean()\n",
    "    model_rmse = mean_squared_error(target_valid, predictions)**0.5\n",
    "\n",
    "    print(\"—Region\", region, \"—\")\n",
    "    print(\"mean product amount =\", mean_product)\n",
    "    print(\"Model RMSE:\", model_rmse)\n",
    "    print()"
   ]
  },
  {
   "cell_type": "markdown",
   "metadata": {},
   "source": [
    "### Save Prediction and Correct Validation Dataset <a id='save_valid_answer'></a>"
   ]
  },
  {
   "cell_type": "code",
   "execution_count": 145,
   "metadata": {},
   "outputs": [],
   "source": [
    "target_pred_geo_data0 = pd.DataFrame(target_pred_0, columns = ['product'])\n",
    "target_pred_geo_data1 = pd.DataFrame(target_pred_1, columns = ['product'])\n",
    "target_pred_geo_data2 = pd.DataFrame(target_pred_2, columns = ['product'])"
   ]
  },
  {
   "cell_type": "markdown",
   "metadata": {},
   "source": [
    "### Average Product Volume and RMSE Model <a id='mean_product_volume'></a>"
   ]
  },
  {
   "cell_type": "code",
   "execution_count": 146,
   "metadata": {},
   "outputs": [
    {
     "name": "stdout",
     "output_type": "stream",
     "text": [
      "Region 0 Product Mean product    92.592458\n",
      "dtype: float64\n",
      "Region 0 Model RMSE: 37.57974697680131\n",
      "\n",
      "Region 1 Product Mean product    68.728547\n",
      "dtype: float64\n",
      "Region 1 Model RMSE: 0.8930993684427244\n",
      "\n",
      "Region 2 Product Mean product    94.965103\n",
      "dtype: float64\n",
      "Region 2 Model RMSE: 40.029761131481024\n"
     ]
    }
   ],
   "source": [
    "print(\"Region 0 Product Mean\", target_pred_geo_data0.mean())\n",
    "print(\"Region 0 Model RMSE:\", model_rmse_0)\n",
    "print()\n",
    "print(\"Region 1 Product Mean\", target_pred_geo_data1.mean())\n",
    "print(\"Region 1 Model RMSE:\", model_rmse_1)\n",
    "print()\n",
    "print(\"Region 2 Product Mean\", target_pred_geo_data2.mean())\n",
    "print(\"Region 2 Model RMSE:\", model_rmse_2)"
   ]
  },
  {
   "cell_type": "code",
   "execution_count": 147,
   "metadata": {},
   "outputs": [
    {
     "name": "stdout",
     "output_type": "stream",
     "text": [
      "Actual Region 0 Product Mean 92.07859674082927\n",
      "\n",
      "Actual Region 1 Product Mean 68.72313602435997\n",
      "\n",
      "Actual Region 2 Product Mean 94.88423280885438\n"
     ]
    }
   ],
   "source": [
    "print(\"Actual Region 0 Product Mean\", target_valid_0.mean())\n",
    "print()\n",
    "print(\"Actual Region 1 Product Mean\", target_valid_1.mean())\n",
    "print()\n",
    "print(\"Actual Region 2 Product Mean\", target_valid_2.mean())"
   ]
  },
  {
   "cell_type": "markdown",
   "metadata": {},
   "source": [
    "<div class=\"alert alert-success\">\n",
    "<b>Code Reviewers's comment v.1</b> <a class=\"tocSkip\"></a>\n",
    "\n",
    "Bagus, code yang dijalankan sudah sesuai dengan instruksi dari project.\n",
    "\n",
    "</div>"
   ]
  },
  {
   "cell_type": "markdown",
   "metadata": {},
   "source": [
    "### Initial Analysis <a id='initial_analysis'></a>"
   ]
  },
  {
   "cell_type": "markdown",
   "metadata": {},
   "source": [
    "**Insights:**\n",
    "\n",
    "1. `Wilayah 2` menghasilkan rata-rata hasil prediksi produk tertinggi, namun juga memiliki tingkat kesalahan tertinggi sebesar 40,03.\n",
    "2. `Wilayah 0` menghasilkan prediksi hasil produk rata-rata serupa dengan Wilayah 2, namun dengan tingkat kesalahan yang lebih rendah. Oleh karena itu, di sarankan memilih Wilayah 0.\n",
    "3. `Wilayah 1` menghasilkan rata-rata hasil prediksi produk terendah, namun memiliki tingkat kesalahan terendah. Oleh karena itu, jika ingin memilih wilayah dengan tingkat kesalahan paling rendah, dapat digunakan Wilayah 1."
   ]
  },
  {
   "cell_type": "markdown",
   "metadata": {},
   "source": [
    "## Initial Profit Calculation  <a id='initial_profit_calculation'></a>"
   ]
  },
  {
   "cell_type": "markdown",
   "metadata": {},
   "source": [
    "### Main Variable <a id='key_variable'></a>"
   ]
  },
  {
   "cell_type": "code",
   "execution_count": 148,
   "metadata": {},
   "outputs": [],
   "source": [
    "# Biaya\n",
    "total_cost = 100000000\n",
    "total_oil_well = 200\n",
    "cost_per_well = total_cost / total_oil_well\n",
    "income = 4500"
   ]
  },
  {
   "cell_type": "markdown",
   "metadata": {},
   "source": [
    "### Volume of Oil Reserves Sufficient to Develop a New Well <a id='minimum_oil_volume'></a>"
   ]
  },
  {
   "cell_type": "code",
   "execution_count": 149,
   "metadata": {},
   "outputs": [
    {
     "name": "stdout",
     "output_type": "stream",
     "text": [
      "Oil Reserves Sufficient to Develop a New Well 112.0\n"
     ]
    }
   ],
   "source": [
    "min_oil_vol = cost_per_well / income\n",
    "print(\"Oil Reserves Sufficient to Develop a New Well\", np.ceil(min_oil_vol))"
   ]
  },
  {
   "cell_type": "code",
   "execution_count": 150,
   "metadata": {},
   "outputs": [
    {
     "data": {
      "text/html": [
       "<div>\n",
       "<style scoped>\n",
       "    .dataframe tbody tr th:only-of-type {\n",
       "        vertical-align: middle;\n",
       "    }\n",
       "\n",
       "    .dataframe tbody tr th {\n",
       "        vertical-align: top;\n",
       "    }\n",
       "\n",
       "    .dataframe thead th {\n",
       "        text-align: right;\n",
       "    }\n",
       "</style>\n",
       "<table border=\"1\" class=\"dataframe\">\n",
       "  <thead>\n",
       "    <tr style=\"text-align: right;\">\n",
       "      <th></th>\n",
       "      <th>product</th>\n",
       "    </tr>\n",
       "  </thead>\n",
       "  <tbody>\n",
       "    <tr>\n",
       "      <th>count</th>\n",
       "      <td>25000.000000</td>\n",
       "    </tr>\n",
       "    <tr>\n",
       "      <th>mean</th>\n",
       "      <td>92.592458</td>\n",
       "    </tr>\n",
       "    <tr>\n",
       "      <th>std</th>\n",
       "      <td>23.152469</td>\n",
       "    </tr>\n",
       "    <tr>\n",
       "      <th>min</th>\n",
       "      <td>-9.245837</td>\n",
       "    </tr>\n",
       "    <tr>\n",
       "      <th>25%</th>\n",
       "      <td>76.672447</td>\n",
       "    </tr>\n",
       "    <tr>\n",
       "      <th>50%</th>\n",
       "      <td>92.657715</td>\n",
       "    </tr>\n",
       "    <tr>\n",
       "      <th>75%</th>\n",
       "      <td>108.415672</td>\n",
       "    </tr>\n",
       "    <tr>\n",
       "      <th>max</th>\n",
       "      <td>180.079697</td>\n",
       "    </tr>\n",
       "  </tbody>\n",
       "</table>\n",
       "</div>"
      ],
      "text/plain": [
       "            product\n",
       "count  25000.000000\n",
       "mean      92.592458\n",
       "std       23.152469\n",
       "min       -9.245837\n",
       "25%       76.672447\n",
       "50%       92.657715\n",
       "75%      108.415672\n",
       "max      180.079697"
      ]
     },
     "execution_count": 150,
     "metadata": {},
     "output_type": "execute_result"
    }
   ],
   "source": [
    "target_pred_geo_data0.describe()"
   ]
  },
  {
   "cell_type": "code",
   "execution_count": 151,
   "metadata": {},
   "outputs": [
    {
     "data": {
      "text/html": [
       "<div>\n",
       "<style scoped>\n",
       "    .dataframe tbody tr th:only-of-type {\n",
       "        vertical-align: middle;\n",
       "    }\n",
       "\n",
       "    .dataframe tbody tr th {\n",
       "        vertical-align: top;\n",
       "    }\n",
       "\n",
       "    .dataframe thead th {\n",
       "        text-align: right;\n",
       "    }\n",
       "</style>\n",
       "<table border=\"1\" class=\"dataframe\">\n",
       "  <thead>\n",
       "    <tr style=\"text-align: right;\">\n",
       "      <th></th>\n",
       "      <th>product</th>\n",
       "    </tr>\n",
       "  </thead>\n",
       "  <tbody>\n",
       "    <tr>\n",
       "      <th>count</th>\n",
       "      <td>25000.000000</td>\n",
       "    </tr>\n",
       "    <tr>\n",
       "      <th>mean</th>\n",
       "      <td>68.728547</td>\n",
       "    </tr>\n",
       "    <tr>\n",
       "      <th>std</th>\n",
       "      <td>46.010204</td>\n",
       "    </tr>\n",
       "    <tr>\n",
       "      <th>min</th>\n",
       "      <td>-1.893744</td>\n",
       "    </tr>\n",
       "    <tr>\n",
       "      <th>25%</th>\n",
       "      <td>28.536680</td>\n",
       "    </tr>\n",
       "    <tr>\n",
       "      <th>50%</th>\n",
       "      <td>57.851592</td>\n",
       "    </tr>\n",
       "    <tr>\n",
       "      <th>75%</th>\n",
       "      <td>109.346467</td>\n",
       "    </tr>\n",
       "    <tr>\n",
       "      <th>max</th>\n",
       "      <td>139.818939</td>\n",
       "    </tr>\n",
       "  </tbody>\n",
       "</table>\n",
       "</div>"
      ],
      "text/plain": [
       "            product\n",
       "count  25000.000000\n",
       "mean      68.728547\n",
       "std       46.010204\n",
       "min       -1.893744\n",
       "25%       28.536680\n",
       "50%       57.851592\n",
       "75%      109.346467\n",
       "max      139.818939"
      ]
     },
     "execution_count": 151,
     "metadata": {},
     "output_type": "execute_result"
    }
   ],
   "source": [
    "target_pred_geo_data1.describe()"
   ]
  },
  {
   "cell_type": "code",
   "execution_count": 152,
   "metadata": {},
   "outputs": [
    {
     "data": {
      "text/html": [
       "<div>\n",
       "<style scoped>\n",
       "    .dataframe tbody tr th:only-of-type {\n",
       "        vertical-align: middle;\n",
       "    }\n",
       "\n",
       "    .dataframe tbody tr th {\n",
       "        vertical-align: top;\n",
       "    }\n",
       "\n",
       "    .dataframe thead th {\n",
       "        text-align: right;\n",
       "    }\n",
       "</style>\n",
       "<table border=\"1\" class=\"dataframe\">\n",
       "  <thead>\n",
       "    <tr style=\"text-align: right;\">\n",
       "      <th></th>\n",
       "      <th>product</th>\n",
       "    </tr>\n",
       "  </thead>\n",
       "  <tbody>\n",
       "    <tr>\n",
       "      <th>count</th>\n",
       "      <td>25000.000000</td>\n",
       "    </tr>\n",
       "    <tr>\n",
       "      <th>mean</th>\n",
       "      <td>94.965103</td>\n",
       "    </tr>\n",
       "    <tr>\n",
       "      <th>std</th>\n",
       "      <td>19.847116</td>\n",
       "    </tr>\n",
       "    <tr>\n",
       "      <th>min</th>\n",
       "      <td>17.157966</td>\n",
       "    </tr>\n",
       "    <tr>\n",
       "      <th>25%</th>\n",
       "      <td>81.394447</td>\n",
       "    </tr>\n",
       "    <tr>\n",
       "      <th>50%</th>\n",
       "      <td>95.031146</td>\n",
       "    </tr>\n",
       "    <tr>\n",
       "      <th>75%</th>\n",
       "      <td>108.488912</td>\n",
       "    </tr>\n",
       "    <tr>\n",
       "      <th>max</th>\n",
       "      <td>165.837018</td>\n",
       "    </tr>\n",
       "  </tbody>\n",
       "</table>\n",
       "</div>"
      ],
      "text/plain": [
       "            product\n",
       "count  25000.000000\n",
       "mean      94.965103\n",
       "std       19.847116\n",
       "min       17.157966\n",
       "25%       81.394447\n",
       "50%       95.031146\n",
       "75%      108.488912\n",
       "max      165.837018"
      ]
     },
     "execution_count": 152,
     "metadata": {},
     "output_type": "execute_result"
    }
   ],
   "source": [
    "target_pred_geo_data2.describe()"
   ]
  },
  {
   "cell_type": "code",
   "execution_count": 153,
   "metadata": {},
   "outputs": [
    {
     "name": "stdout",
     "output_type": "stream",
     "text": [
      "product    112.339468\n",
      "Name: 0.8, dtype: float64\n",
      "product    112.146728\n",
      "Name: 0.832, dtype: float64\n",
      "product    112.592494\n",
      "Name: 0.81, dtype: float64\n"
     ]
    }
   ],
   "source": [
    "print(target_pred_geo_data0.quantile(0.8))\n",
    "print(target_pred_geo_data1.quantile(0.832))\n",
    "print(target_pred_geo_data2.quantile(0.81))"
   ]
  },
  {
   "cell_type": "code",
   "execution_count": 154,
   "metadata": {},
   "outputs": [
    {
     "name": "stdout",
     "output_type": "stream",
     "text": [
      "Profit 39900638 USD\n",
      "\n"
     ]
    }
   ],
   "source": [
    "# Menghitung Profit untuk Region 0\n",
    "top_200_product = pd.Series(target_pred_0).sort_values(ascending = False)[:200]\n",
    "total_product = top_200_product.sum()\n",
    "total_income = income * total_product\n",
    "profit = total_income - total_cost\n",
    "print(\"Profit\", round(profit), \"USD\")\n",
    "print()"
   ]
  },
  {
   "cell_type": "code",
   "execution_count": 155,
   "metadata": {},
   "outputs": [
    {
     "name": "stdout",
     "output_type": "stream",
     "text": [
      "Profit 24857093 USD\n",
      "\n"
     ]
    }
   ],
   "source": [
    "# Menghitung Profit untuk Region 1\n",
    "top_200_product = pd.Series(target_pred_1).sort_values(ascending = False )[:200]\n",
    "total_product = top_200_product.sum()\n",
    "total_income = income * total_product\n",
    "profit = total_income - total_cost\n",
    "print(\"Profit\", round(profit), \"USD\")\n",
    "print()"
   ]
  },
  {
   "cell_type": "code",
   "execution_count": 156,
   "metadata": {},
   "outputs": [
    {
     "name": "stdout",
     "output_type": "stream",
     "text": [
      "Profit 24857093 USD\n",
      "\n"
     ]
    }
   ],
   "source": [
    "# Menghitung Profit untuk Region 2\n",
    "top_200_product = pd.Series(target_pred_1).sort_values(ascending = False )[:200]\n",
    "total_product = top_200_product.sum()\n",
    "total_income = income * total_product\n",
    "profit = total_income - total_cost\n",
    "print(\"Profit\", round(profit),\"USD\")\n",
    "print()"
   ]
  },
  {
   "cell_type": "markdown",
   "metadata": {},
   "source": [
    "### Subcetion Conclution <a id='subcetion_conlcution'></a>"
   ]
  },
  {
   "cell_type": "markdown",
   "metadata": {},
   "source": [
    "**Insights:**\n",
    "\n",
    "1. Suatu sumur harus mempunyai volume minyak lebih dari 112 ribu barel supaya investasinya dapat menguntungkan.\n",
    "2. Rata-rata ketiga wilayah tersebut memiliki 20 juta dari 100 juta titik yang memenuhi syarat untuk dikembangkan.\n",
    "3. Jika kita mengembangkan 200 sumur teratas di setiap wilayah, keuntungan tertinggi akan diperoleh di wilayah 1 dengan total keuntungan hampir 40 juta USD."
   ]
  },
  {
   "cell_type": "markdown",
   "metadata": {},
   "source": [
    "## Profit Calculation <a id='profit_calculation'></a>"
   ]
  },
  {
   "cell_type": "code",
   "execution_count": 157,
   "metadata": {},
   "outputs": [],
   "source": [
    "def calculate_profit(prediction, name, income = 4500, total_cost = 100000000, points = 200):\n",
    "    predict_top200 = prediction.sort_values(ascending = False, by = 'product')[:points]\n",
    "    product = predict_top200.sum()\n",
    "    total_cost = round(total_cost / 1000000)\n",
    "    total_income = round(income * product / 1000000)\n",
    "    profit = round(total_income - total_cost)\n",
    "    geo = name\n",
    "    print('-------------------')\n",
    "    print(f'Profitability Geo Data {geo}')\n",
    "    print(f'Total Income: {total_income}')\n",
    "    print(f'Total Cost  : {total_cost}')\n",
    "    print(f'Profit      : {profit}', 'M USD')"
   ]
  },
  {
   "cell_type": "code",
   "execution_count": 158,
   "metadata": {},
   "outputs": [
    {
     "name": "stdout",
     "output_type": "stream",
     "text": [
      "-------------------\n",
      "Profitability Geo Data 0\n",
      "Total Income: product    140.0\n",
      "dtype: float64\n",
      "Total Cost  : 100\n",
      "Profit      : product    40.0\n",
      "dtype: float64 M USD\n",
      "-------------------\n",
      "Profitability Geo Data 1\n",
      "Total Income: product    125.0\n",
      "dtype: float64\n",
      "Total Cost  : 100\n",
      "Profit      : product    25.0\n",
      "dtype: float64 M USD\n",
      "-------------------\n",
      "Profitability Geo Data 2\n",
      "Total Income: product    133.0\n",
      "dtype: float64\n",
      "Total Cost  : 100\n",
      "Profit      : product    33.0\n",
      "dtype: float64 M USD\n"
     ]
    }
   ],
   "source": [
    "calculate_profit(prediction = target_pred_geo_data0, name = 0)\n",
    "calculate_profit(prediction = target_pred_geo_data1, name = 1)\n",
    "calculate_profit(prediction = target_pred_geo_data2, name = 2)"
   ]
  },
  {
   "cell_type": "markdown",
   "metadata": {},
   "source": [
    "**Insights:**\n",
    "\n",
    "1. Jika ingin menginvestasikan uang pada 200 sumur teratas di tiga wilayah ini, masih akan menghasilkan keuntungan dari ketiga wilayah tersebut.\n",
    "2. Wilayah dengan keuntungan tertinggi diproduksi di wilayah 0\n",
    "3. Wilayah 0 juga memiliki jumlah poin tertinggi di atas 112"
   ]
  },
  {
   "cell_type": "markdown",
   "metadata": {},
   "source": [
    "## Risk and Return <a id='risk_and_return'></a>"
   ]
  },
  {
   "cell_type": "code",
   "execution_count": 159,
   "metadata": {},
   "outputs": [
    {
     "data": {
      "text/plain": [
       "200"
      ]
     },
     "execution_count": 159,
     "metadata": {},
     "output_type": "execute_result"
    }
   ],
   "source": [
    "SAMPLE_SIZE = 500\n",
    "BOOTSTRAP_SIZE = 1000\n",
    "\n",
    "BUDGET = 100000000\n",
    "COST_PER_POINT = 500000\n",
    "POINTS_PER_BUDGET = BUDGET // COST_PER_POINT\n",
    "\n",
    "PRODUCT_PRICE = 4500\n",
    "POINTS_PER_BUDGET"
   ]
  },
  {
   "cell_type": "code",
   "execution_count": 160,
   "metadata": {},
   "outputs": [],
   "source": [
    "def calculate_profit_bootstrap(prediction, name, income = 4500, total_cost = 100000000, points = 200):\n",
    "    predict_top200 = prediction.sort_values(ascending = False)[:points]\n",
    "    product = predict_top200.sum()\n",
    "    total_cost = total_cost\n",
    "    total_income = income *  product\n",
    "    profit = total_income - total_cost\n",
    "    geo = name"
   ]
  },
  {
   "cell_type": "code",
   "execution_count": 161,
   "metadata": {},
   "outputs": [],
   "source": [
    "def profit(target, predictions):\n",
    "    prediction_sorted = predictions.sort_values(ascending = False)\n",
    "    selected_points = target[prediction_sorted.index][:POINTS_PER_BUDGET]\n",
    "    product = selected_points.sum()\n",
    "    revenue = product * PRODUCT_PRICE\n",
    "    cost = BUDGET\n",
    "    return revenue - cost"
   ]
  },
  {
   "cell_type": "code",
   "execution_count": 162,
   "metadata": {},
   "outputs": [
    {
     "name": "stdout",
     "output_type": "stream",
     "text": [
      "—Region 0 —\n",
      "Mean profit = 4238972 USD\n",
      "95% confidence interval: (-761878.1389036368, 9578465.319517836)\n",
      "Risk of losses = 4.8 %\n",
      "\n",
      "—Region 1 —\n",
      "Mean profit = 5132567 USD\n",
      "95% confidence interval: (1080668.9523396173, 9285744.392324952)\n",
      "Risk of losses = 0.6 %\n",
      "\n",
      "—Region 2 —\n",
      "Mean profit = 3811204 USD\n",
      "95% confidence interval: (-1428006.300878686, 8933805.657503996)\n",
      "Risk of losses = 7.3999999999999995 %\n",
      "\n"
     ]
    }
   ],
   "source": [
    "for region in range(3):\n",
    "\n",
    "    target = samples_target[region]\n",
    "    predictions = samples_predictions[region]\n",
    "\n",
    "    profit_values = []\n",
    "    \n",
    "    for i in range(BOOTSTRAP_SIZE):\n",
    "        target_sample = target.sample(SAMPLE_SIZE, replace = True, random_state = state)\n",
    "        predictions_sample = predictions[target_sample.index]\n",
    "        #profit_values.append(calculate_profit_bootstrap(prediction = predictions_sample, name = region))\n",
    "        profit_values.append(profit(target_sample, predictions_sample))\n",
    "\n",
    "    profit_values = pd.Series(profit_values)\n",
    "\n",
    "    mean_profit = profit_values.mean()\n",
    "    confidence_interval = (profit_values.quantile(0.025), profit_values.quantile(0.975))\n",
    "    negative_profit_chance = (profit_values < 0).mean()\n",
    "    \n",
    "    print(\"—Region\", region, \"—\")\n",
    "    print(\"Mean profit =\", round(mean_profit), \"USD\")\n",
    "    print(\"95% confidence interval:\", confidence_interval)\n",
    "    print(\"Risk of losses =\", negative_profit_chance * 100, \"%\")\n",
    "    print()\n"
   ]
  },
  {
   "cell_type": "markdown",
   "metadata": {},
   "source": [
    "## Summary  <a id='summary'></a>"
   ]
  },
  {
   "cell_type": "markdown",
   "metadata": {},
   "source": [
    "Proyek ini menghasilkan suatu model yang mampu memprediksi volume cadangan minyak dalam suatu sumur, dengan harapan investasi yang dilakukan dapat menghasilkan keuntungan. Berdasarkan prediksi model, ditemukan bahwa wilayah 2 memiliki rata-rata cadangan minyak tertinggi. Untuk menghasilkan keuntungan, sebuah sumur minyak harus memiliki cadangan minyak minimal 112 ribu barel.\n",
    "\n",
    "Setelah dilakukan proses `bootstrapping`, diketahui bahwa investasi pada wilayah 2 memiliki risiko tinggi dengan rata-rata pendapatan paling rendah dibandingkan dua wilayah lainnya. Oleh karena itu, saya menyarankan untuk berinvestasi di wilayah 1 yang memiliki risiko terendah dan keuntungan tertinggi."
   ]
  },
  {
   "cell_type": "code",
   "execution_count": null,
   "metadata": {},
   "outputs": [],
   "source": []
  }
 ],
 "metadata": {
  "kernelspec": {
   "display_name": "Python 3 (ipykernel)",
   "language": "python",
   "name": "python3"
  },
  "language_info": {
   "codemirror_mode": {
    "name": "ipython",
    "version": 3
   },
   "file_extension": ".py",
   "mimetype": "text/x-python",
   "name": "python",
   "nbconvert_exporter": "python",
   "pygments_lexer": "ipython3",
   "version": "3.9.19"
  },
  "toc": {
   "base_numbering": 1,
   "nav_menu": {},
   "number_sections": true,
   "sideBar": true,
   "skip_h1_title": true,
   "title_cell": "Table of Contents",
   "title_sidebar": "Contents",
   "toc_cell": false,
   "toc_position": {},
   "toc_section_display": true,
   "toc_window_display": false
  }
 },
 "nbformat": 4,
 "nbformat_minor": 2
}
